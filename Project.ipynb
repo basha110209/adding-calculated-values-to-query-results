{
 "cells": [
  {
   "cell_type": "markdown",
   "metadata": {},
   "source": [
    "![ine-divider](https://user-images.githubusercontent.com/7065401/92672068-398e8080-f2ee-11ea-82d6-ad53f7feb5c0.png)\n",
    "<hr>\n",
    "\n",
    "### MySQL and MariaDB for Python Developers\n",
    "\n",
    "# Adding calculated values to query results\n",
    "\n",
    "In this project, you will enhance MySQL to perform operations not available by default in queries.\n",
    "\n",
    "You will need access to a MySQL installation where you have superuser permissions. If you do not have such access elsewhere, installing to your personal workstation is a good idea.  Alternately, you might wish to use a Docker container for a self-contained installation.  See ` https://hub.docker.com/_/mysql` for details on that option.\n",
    "\n",
    "![orange-divider](https://user-images.githubusercontent.com/7065401/92672455-187a5f80-f2ef-11ea-890c-40be9474f7b7.png)"
   ]
  },
  {
   "cell_type": "markdown",
   "metadata": {},
   "source": [
    "## Part 1\n",
    "\n",
    "**Calculating geometric mean**\n",
    "\n",
    "In this task, we will continue to use the airline tweets table that has been used in previous projects.  A solution is available in the file `make_psql.py` in this projects.  Sometimes we with to perform queries that describe aggregations of the data.  For example:"
   ]
  },
  {
   "cell_type": "code",
   "execution_count": 3,
   "metadata": {},
   "outputs": [],
   "source": [
    "import pandas as pd\n",
    "import mysql.connector\n",
    "cred = dict(user='ine_student', password='ine-password', database='ine')\n",
    "conn = mysql.connector.connect(**cred)\n",
    "cur = conn.cursor()"
   ]
  },
  {
   "cell_type": "code",
   "execution_count": 5,
   "metadata": {},
   "outputs": [
    {
     "data": {
      "text/html": [
       "<div>\n",
       "<style scoped>\n",
       "    .dataframe tbody tr th:only-of-type {\n",
       "        vertical-align: middle;\n",
       "    }\n",
       "\n",
       "    .dataframe tbody tr th {\n",
       "        vertical-align: top;\n",
       "    }\n",
       "\n",
       "    .dataframe thead th {\n",
       "        text-align: right;\n",
       "    }\n",
       "</style>\n",
       "<table border=\"1\" class=\"dataframe\">\n",
       "  <thead>\n",
       "    <tr style=\"text-align: right;\">\n",
       "      <th></th>\n",
       "      <th>airline</th>\n",
       "      <th>avg_sentiment_conf</th>\n",
       "      <th>avg_neg_conf</th>\n",
       "    </tr>\n",
       "  </thead>\n",
       "  <tbody>\n",
       "    <tr>\n",
       "      <th>0</th>\n",
       "      <td>Delta</td>\n",
       "      <td>0.847048</td>\n",
       "      <td>0.573097</td>\n",
       "    </tr>\n",
       "    <tr>\n",
       "      <th>1</th>\n",
       "      <td>United</td>\n",
       "      <td>0.896252</td>\n",
       "      <td>0.627285</td>\n",
       "    </tr>\n",
       "    <tr>\n",
       "      <th>2</th>\n",
       "      <td>Southwest</td>\n",
       "      <td>0.867695</td>\n",
       "      <td>0.601508</td>\n",
       "    </tr>\n",
       "    <tr>\n",
       "      <th>3</th>\n",
       "      <td>US Airways</td>\n",
       "      <td>0.919169</td>\n",
       "      <td>0.687172</td>\n",
       "    </tr>\n",
       "    <tr>\n",
       "      <th>4</th>\n",
       "      <td>Virgin America</td>\n",
       "      <td>0.838760</td>\n",
       "      <td>0.556985</td>\n",
       "    </tr>\n",
       "    <tr>\n",
       "      <th>5</th>\n",
       "      <td>American</td>\n",
       "      <td>0.912919</td>\n",
       "      <td>0.665752</td>\n",
       "    </tr>\n",
       "  </tbody>\n",
       "</table>\n",
       "</div>"
      ],
      "text/plain": [
       "          airline  avg_sentiment_conf  avg_neg_conf\n",
       "0           Delta            0.847048      0.573097\n",
       "1          United            0.896252      0.627285\n",
       "2       Southwest            0.867695      0.601508\n",
       "3      US Airways            0.919169      0.687172\n",
       "4  Virgin America            0.838760      0.556985\n",
       "5        American            0.912919      0.665752"
      ]
     },
     "execution_count": 5,
     "metadata": {},
     "output_type": "execute_result"
    }
   ],
   "source": [
    "sql = \"\"\"\n",
    "SELECT airline, avg(airline_sentiment_confidence), avg(negativereason_confidence)\n",
    "FROM Tweets\n",
    "GROUP BY airline;\n",
    "\"\"\"\n",
    "cur.execute(sql)\n",
    "pd.DataFrame(cur.fetchall(), columns=['airline', 'avg_sentiment_conf', 'avg_neg_conf'])"
   ]
  },
  {
   "cell_type": "markdown",
   "metadata": {},
   "source": [
    "For this task, you would like to make a similar report, but using geometric mean rather than arithmetic mean.   Creating a VIEW that contains both mean and geometric mean as columns is a good approach that can be queried whenever the underlying data updates.  For extra credit, you could add the midrange."
   ]
  },
  {
   "cell_type": "markdown",
   "metadata": {},
   "source": [
    "**Solution**"
   ]
  },
  {
   "cell_type": "code",
   "execution_count": 15,
   "metadata": {},
   "outputs": [],
   "source": [
    "sql_conf = \"\"\"\n",
    "CREATE OR REPLACE VIEW airline_sentiment (\n",
    "    airline, mean, gmean, midrange) AS \n",
    "SELECT airline, \n",
    "       avg(airline_sentiment_confidence),\n",
    "       exp(sum(log(airline_sentiment_confidence)) / count(airline_sentiment_confidence)),\n",
    "       (max(airline_sentiment_confidence) + min(airline_sentiment_confidence)) / 2\n",
    "FROM Tweets\n",
    "GROUP BY airline;\n",
    "\"\"\"\n",
    "cur.execute(sql_conf)"
   ]
  },
  {
   "cell_type": "code",
   "execution_count": 17,
   "metadata": {},
   "outputs": [
    {
     "data": {
      "text/html": [
       "<div>\n",
       "<style scoped>\n",
       "    .dataframe tbody tr th:only-of-type {\n",
       "        vertical-align: middle;\n",
       "    }\n",
       "\n",
       "    .dataframe tbody tr th {\n",
       "        vertical-align: top;\n",
       "    }\n",
       "\n",
       "    .dataframe thead th {\n",
       "        text-align: right;\n",
       "    }\n",
       "</style>\n",
       "<table border=\"1\" class=\"dataframe\">\n",
       "  <thead>\n",
       "    <tr style=\"text-align: right;\">\n",
       "      <th></th>\n",
       "      <th>airline</th>\n",
       "      <th>mean</th>\n",
       "      <th>gmean</th>\n",
       "      <th>midrange</th>\n",
       "    </tr>\n",
       "  </thead>\n",
       "  <tbody>\n",
       "    <tr>\n",
       "      <th>0</th>\n",
       "      <td>Delta</td>\n",
       "      <td>0.847048</td>\n",
       "      <td>0.820950</td>\n",
       "      <td>0.66815</td>\n",
       "    </tr>\n",
       "    <tr>\n",
       "      <th>1</th>\n",
       "      <td>United</td>\n",
       "      <td>0.896252</td>\n",
       "      <td>0.876755</td>\n",
       "      <td>0.66750</td>\n",
       "    </tr>\n",
       "    <tr>\n",
       "      <th>2</th>\n",
       "      <td>Southwest</td>\n",
       "      <td>0.867695</td>\n",
       "      <td>0.844234</td>\n",
       "      <td>0.66765</td>\n",
       "    </tr>\n",
       "    <tr>\n",
       "      <th>3</th>\n",
       "      <td>US Airways</td>\n",
       "      <td>0.919169</td>\n",
       "      <td>0.903026</td>\n",
       "      <td>0.67000</td>\n",
       "    </tr>\n",
       "    <tr>\n",
       "      <th>4</th>\n",
       "      <td>Virgin America</td>\n",
       "      <td>0.838760</td>\n",
       "      <td>0.813192</td>\n",
       "      <td>0.67410</td>\n",
       "    </tr>\n",
       "    <tr>\n",
       "      <th>5</th>\n",
       "      <td>American</td>\n",
       "      <td>0.912919</td>\n",
       "      <td>0.896896</td>\n",
       "      <td>0.66835</td>\n",
       "    </tr>\n",
       "  </tbody>\n",
       "</table>\n",
       "</div>"
      ],
      "text/plain": [
       "          airline      mean     gmean  midrange\n",
       "0           Delta  0.847048  0.820950   0.66815\n",
       "1          United  0.896252  0.876755   0.66750\n",
       "2       Southwest  0.867695  0.844234   0.66765\n",
       "3      US Airways  0.919169  0.903026   0.67000\n",
       "4  Virgin America  0.838760  0.813192   0.67410\n",
       "5        American  0.912919  0.896896   0.66835"
      ]
     },
     "execution_count": 17,
     "metadata": {},
     "output_type": "execute_result"
    }
   ],
   "source": [
    "cur.execute(\"SELECT * FROM airline_sentiment\")\n",
    "pd.DataFrame(cur.fetchall(), columns=[c[0] for c in cur.description])"
   ]
  },
  {
   "cell_type": "markdown",
   "metadata": {},
   "source": [
    "![orange-divider](https://user-images.githubusercontent.com/7065401/92672455-187a5f80-f2ef-11ea-890c-40be9474f7b7.png)"
   ]
  },
  {
   "cell_type": "markdown",
   "metadata": {},
   "source": [
    "## Part 2\n",
    "\n",
    "**Calculating median**\n",
    "\n",
    "Unfortunately, the aggregation `MEDIAN()` is not one provided by MySQL.  See if you can find it yourself, per airline, using SQL rather than Python as much as possible.\n",
    "\n",
    "Hint: It is *possible* in pure MySQL, but **much** easier if you allow yourself part of the logic in Python."
   ]
  },
  {
   "cell_type": "markdown",
   "metadata": {},
   "source": [
    "**Solution**"
   ]
  },
  {
   "cell_type": "code",
   "execution_count": 25,
   "metadata": {},
   "outputs": [
    {
     "data": {
      "text/plain": [
       "{'Delta': 0.6556,\n",
       " 'United': 0.6871,\n",
       " 'Southwest': 1.0,\n",
       " 'US Airways': 0.6735,\n",
       " 'Virgin America': 1.0,\n",
       " 'American': 0.3356}"
      ]
     },
     "execution_count": 25,
     "metadata": {},
     "output_type": "execute_result"
    }
   ],
   "source": [
    "results = {}\n",
    "cur.execute(\"SELECT DISTINCT airline FROM Tweets\")\n",
    "for row in cur.fetchall():\n",
    "    airline = row[0]\n",
    "    newcur = conn.cursor()\n",
    "    newcur.execute(f\"SELECT count(*) FROM Tweets WHERE airline='{airline}'\")\n",
    "    mid = newcur.fetchone()[0]//2\n",
    "    sql = (f\"SELECT airline_sentiment_confidence \"\n",
    "           f\"FROM Tweets LIMIT 1 OFFSET {mid}\")\n",
    "    newcur.execute(sql)\n",
    "    results[airline] = newcur.fetchone()[0]\n",
    "    \n",
    "results"
   ]
  },
  {
   "cell_type": "markdown",
   "metadata": {},
   "source": [
    "![orange-divider](https://user-images.githubusercontent.com/7065401/92672455-187a5f80-f2ef-11ea-890c-40be9474f7b7.png)"
   ]
  }
 ],
 "metadata": {
  "kernelspec": {
   "display_name": "Python 3",
   "language": "python",
   "name": "python3"
  },
  "language_info": {
   "codemirror_mode": {
    "name": "ipython",
    "version": 3
   },
   "file_extension": ".py",
   "mimetype": "text/x-python",
   "name": "python",
   "nbconvert_exporter": "python",
   "pygments_lexer": "ipython3",
   "version": "3.8.6"
  }
 },
 "nbformat": 4,
 "nbformat_minor": 4
}
